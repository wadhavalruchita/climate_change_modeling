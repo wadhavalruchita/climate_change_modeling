{
 "cells": [
  {
   "cell_type": "markdown",
   "id": "a3a2f515-f6ac-4992-9518-64e86aeec28a",
   "metadata": {},
   "source": [
    "# Dataset Exploration"
   ]
  },
  {
   "cell_type": "code",
   "execution_count": 8,
   "id": "65704215-40bd-4f50-adea-caf3188f5646",
   "metadata": {},
   "outputs": [
    {
     "data": {
      "text/html": [
       "<div>\n",
       "<style scoped>\n",
       "    .dataframe tbody tr th:only-of-type {\n",
       "        vertical-align: middle;\n",
       "    }\n",
       "\n",
       "    .dataframe tbody tr th {\n",
       "        vertical-align: top;\n",
       "    }\n",
       "\n",
       "    .dataframe thead th {\n",
       "        text-align: right;\n",
       "    }\n",
       "</style>\n",
       "<table border=\"1\" class=\"dataframe\">\n",
       "  <thead>\n",
       "    <tr style=\"text-align: right;\">\n",
       "      <th></th>\n",
       "      <th>date</th>\n",
       "      <th>likesCount</th>\n",
       "      <th>profileName</th>\n",
       "      <th>commentsCount</th>\n",
       "      <th>text</th>\n",
       "    </tr>\n",
       "  </thead>\n",
       "  <tbody>\n",
       "    <tr>\n",
       "      <th>0</th>\n",
       "      <td>2022-09-07T17:12:32.000Z</td>\n",
       "      <td>2</td>\n",
       "      <td>4dca617d86b3fdce80ba7e81fb16e048c9cd9798cdfd6d...</td>\n",
       "      <td>NaN</td>\n",
       "      <td>Neat comparison I have not heard it before.\\n ...</td>\n",
       "    </tr>\n",
       "    <tr>\n",
       "      <th>1</th>\n",
       "      <td>2022-09-08T14:51:13.000Z</td>\n",
       "      <td>0</td>\n",
       "      <td>518ab97f2d115ba5b6f03b2fba2ef2b120540c9681288b...</td>\n",
       "      <td>NaN</td>\n",
       "      <td>An excellent way to visualise the invisible! T...</td>\n",
       "    </tr>\n",
       "    <tr>\n",
       "      <th>2</th>\n",
       "      <td>2022-09-07T17:19:41.000Z</td>\n",
       "      <td>1</td>\n",
       "      <td>d82e8e24eb633fd625b0aef9b3cb625cfb044ceb8483e1...</td>\n",
       "      <td>3.0</td>\n",
       "      <td>Does the CO2/ghg in the troposphere affect the...</td>\n",
       "    </tr>\n",
       "    <tr>\n",
       "      <th>3</th>\n",
       "      <td>2022-09-08T00:51:30.000Z</td>\n",
       "      <td>4</td>\n",
       "      <td>37a509fa0b5177a2233c7e2d0e2b2d6916695fa9fba3f2...</td>\n",
       "      <td>NaN</td>\n",
       "      <td>excellent post! I defo feel the difference - o...</td>\n",
       "    </tr>\n",
       "    <tr>\n",
       "      <th>4</th>\n",
       "      <td>2022-09-07T19:06:20.000Z</td>\n",
       "      <td>16</td>\n",
       "      <td>e54fbbd42a729af9d04d9a5cc1f9bbfe8081a31c219ecb...</td>\n",
       "      <td>26.0</td>\n",
       "      <td>Yes, and carbon dioxide does not harm the Eart...</td>\n",
       "    </tr>\n",
       "  </tbody>\n",
       "</table>\n",
       "</div>"
      ],
      "text/plain": [
       "                       date  likesCount  \\\n",
       "0  2022-09-07T17:12:32.000Z           2   \n",
       "1  2022-09-08T14:51:13.000Z           0   \n",
       "2  2022-09-07T17:19:41.000Z           1   \n",
       "3  2022-09-08T00:51:30.000Z           4   \n",
       "4  2022-09-07T19:06:20.000Z          16   \n",
       "\n",
       "                                         profileName  commentsCount  \\\n",
       "0  4dca617d86b3fdce80ba7e81fb16e048c9cd9798cdfd6d...            NaN   \n",
       "1  518ab97f2d115ba5b6f03b2fba2ef2b120540c9681288b...            NaN   \n",
       "2  d82e8e24eb633fd625b0aef9b3cb625cfb044ceb8483e1...            3.0   \n",
       "3  37a509fa0b5177a2233c7e2d0e2b2d6916695fa9fba3f2...            NaN   \n",
       "4  e54fbbd42a729af9d04d9a5cc1f9bbfe8081a31c219ecb...           26.0   \n",
       "\n",
       "                                                text  \n",
       "0  Neat comparison I have not heard it before.\\n ...  \n",
       "1  An excellent way to visualise the invisible! T...  \n",
       "2  Does the CO2/ghg in the troposphere affect the...  \n",
       "3  excellent post! I defo feel the difference - o...  \n",
       "4  Yes, and carbon dioxide does not harm the Eart...  "
      ]
     },
     "execution_count": 8,
     "metadata": {},
     "output_type": "execute_result"
    }
   ],
   "source": [
    "import pandas as pd\n",
    "data = pd.read_csv('climate_nasa.csv')\n",
    "data.head()"
   ]
  },
  {
   "cell_type": "code",
   "execution_count": 9,
   "id": "ecde93ba-edbc-41b7-97d9-573b4150943a",
   "metadata": {},
   "outputs": [
    {
     "name": "stdout",
     "output_type": "stream",
     "text": [
      "<class 'pandas.core.frame.DataFrame'>\n",
      "RangeIndex: 522 entries, 0 to 521\n",
      "Data columns (total 5 columns):\n",
      " #   Column         Non-Null Count  Dtype  \n",
      "---  ------         --------------  -----  \n",
      " 0   date           522 non-null    object \n",
      " 1   likesCount     522 non-null    int64  \n",
      " 2   profileName    522 non-null    object \n",
      " 3   commentsCount  244 non-null    float64\n",
      " 4   text           504 non-null    object \n",
      "dtypes: float64(1), int64(1), object(3)\n",
      "memory usage: 20.5+ KB\n"
     ]
    }
   ],
   "source": [
    "data.info()"
   ]
  },
  {
   "cell_type": "markdown",
   "id": "cd6dbe71-343b-4099-915e-c1de850ab208",
   "metadata": {},
   "source": [
    "data.describe()"
   ]
  },
  {
   "cell_type": "code",
   "execution_count": 10,
   "id": "f7288cd3-da68-444d-8dd1-b165dc4c1aa7",
   "metadata": {},
   "outputs": [
    {
     "data": {
      "text/html": [
       "<div>\n",
       "<style scoped>\n",
       "    .dataframe tbody tr th:only-of-type {\n",
       "        vertical-align: middle;\n",
       "    }\n",
       "\n",
       "    .dataframe tbody tr th {\n",
       "        vertical-align: top;\n",
       "    }\n",
       "\n",
       "    .dataframe thead th {\n",
       "        text-align: right;\n",
       "    }\n",
       "</style>\n",
       "<table border=\"1\" class=\"dataframe\">\n",
       "  <thead>\n",
       "    <tr style=\"text-align: right;\">\n",
       "      <th></th>\n",
       "      <th>likesCount</th>\n",
       "      <th>commentsCount</th>\n",
       "    </tr>\n",
       "  </thead>\n",
       "  <tbody>\n",
       "    <tr>\n",
       "      <th>count</th>\n",
       "      <td>522.000000</td>\n",
       "      <td>244.000000</td>\n",
       "    </tr>\n",
       "    <tr>\n",
       "      <th>mean</th>\n",
       "      <td>4.720307</td>\n",
       "      <td>8.696721</td>\n",
       "    </tr>\n",
       "    <tr>\n",
       "      <th>std</th>\n",
       "      <td>12.053556</td>\n",
       "      <td>12.266176</td>\n",
       "    </tr>\n",
       "    <tr>\n",
       "      <th>min</th>\n",
       "      <td>0.000000</td>\n",
       "      <td>1.000000</td>\n",
       "    </tr>\n",
       "    <tr>\n",
       "      <th>25%</th>\n",
       "      <td>0.000000</td>\n",
       "      <td>2.000000</td>\n",
       "    </tr>\n",
       "    <tr>\n",
       "      <th>50%</th>\n",
       "      <td>1.000000</td>\n",
       "      <td>5.000000</td>\n",
       "    </tr>\n",
       "    <tr>\n",
       "      <th>75%</th>\n",
       "      <td>4.000000</td>\n",
       "      <td>10.000000</td>\n",
       "    </tr>\n",
       "    <tr>\n",
       "      <th>max</th>\n",
       "      <td>126.000000</td>\n",
       "      <td>93.000000</td>\n",
       "    </tr>\n",
       "  </tbody>\n",
       "</table>\n",
       "</div>"
      ],
      "text/plain": [
       "       likesCount  commentsCount\n",
       "count  522.000000     244.000000\n",
       "mean     4.720307       8.696721\n",
       "std     12.053556      12.266176\n",
       "min      0.000000       1.000000\n",
       "25%      0.000000       2.000000\n",
       "50%      1.000000       5.000000\n",
       "75%      4.000000      10.000000\n",
       "max    126.000000      93.000000"
      ]
     },
     "execution_count": 10,
     "metadata": {},
     "output_type": "execute_result"
    }
   ],
   "source": [
    "data.describe()"
   ]
  },
  {
   "cell_type": "code",
   "execution_count": 11,
   "id": "c9192e5d-ca82-4c6b-a760-73a4291a032c",
   "metadata": {},
   "outputs": [
    {
     "data": {
      "text/plain": [
       "date               0\n",
       "likesCount         0\n",
       "profileName        0\n",
       "commentsCount    278\n",
       "text              18\n",
       "dtype: int64"
      ]
     },
     "execution_count": 11,
     "metadata": {},
     "output_type": "execute_result"
    }
   ],
   "source": [
    "data.isnull().sum()"
   ]
  },
  {
   "cell_type": "code",
   "execution_count": 12,
   "id": "a256e9c6-7812-45dd-a41d-c516020980f4",
   "metadata": {},
   "outputs": [
    {
     "name": "stdout",
     "output_type": "stream",
     "text": [
      "Unique profile names: 483\n",
      "Unique comments: 503\n"
     ]
    }
   ],
   "source": [
    "print(\"Unique profile names:\", data['profileName'].nunique())\n",
    "print(\"Unique comments:\", data['text'].nunique())"
   ]
  },
  {
   "cell_type": "code",
   "execution_count": 13,
   "id": "4cf3ec17-55f3-4c18-8f9e-c6fb4e4539a5",
   "metadata": {
    "collapsed": true,
    "jupyter": {
     "outputs_hidden": true
    }
   },
   "outputs": [
    {
     "data": {
      "text/plain": [
       "<Axes: >"
      ]
     },
     "execution_count": 13,
     "metadata": {},
     "output_type": "execute_result"
    },
    {
     "data": {
      "image/png": "[encoded data removed]",
      "text/plain": [
       "<Figure size 800x500 with 1 Axes>"
      ]
     },
     "metadata": {},
     "output_type": "display_data"
    }
   ],
   "source": [
    "data['likesCount'].hist(bins=20, figsize=(8, 5), color='blue', alpha=0.7)"
   ]
  },
  {
   "cell_type": "markdown",
   "id": "bede787c-3dd5-4f79-b6c1-81d7edabe9c6",
   "metadata": {},
   "source": [
    "# Data Preprocessing"
   ]
  },
  {
   "cell_type": "code",
   "execution_count": 14,
   "id": "7c632b90-57e1-4fce-9773-85ae817c7d40",
   "metadata": {},
   "outputs": [
    {
     "name": "stdout",
     "output_type": "stream",
     "text": [
      "After dropping missing values: (242, 5)\n"
     ]
    }
   ],
   "source": [
    "data = data.dropna()\n",
    "print(\"After dropping missing values:\", data.shape)"
   ]
  },
  {
   "cell_type": "code",
   "execution_count": 15,
   "id": "99090df2-d9e7-4b7a-82a0-322288f8ad04",
   "metadata": {},
   "outputs": [
    {
     "name": "stdout",
     "output_type": "stream",
     "text": [
      "                       date  likesCount  \\\n",
      "2  2022-09-07T17:19:41.000Z    0.007937   \n",
      "4  2022-09-07T19:06:20.000Z    0.126984   \n",
      "5  2022-09-15T17:10:57.000Z    0.031746   \n",
      "7  2022-09-07T18:07:53.000Z    0.007937   \n",
      "9  2022-09-07T16:30:55.000Z    0.031746   \n",
      "\n",
      "                                         profileName  commentsCount  \\\n",
      "2  d82e8e24eb633fd625b0aef9b3cb625cfb044ceb8483e1...       0.021739   \n",
      "4  e54fbbd42a729af9d04d9a5cc1f9bbfe8081a31c219ecb...       0.271739   \n",
      "5  191055fb869d185092abf1405f0b2f4abe73bcaa9beb85...       0.000000   \n",
      "7  39c3ec5a079b6b1a62577a1d13d4e8f894c5525575b85d...       0.217391   \n",
      "9  31fd4cfea1a56eb21ad6a86ce4ed94e6a15e654b3557bf...       0.076087   \n",
      "\n",
      "                                                text  \n",
      "2  Does the CO2/ghg in the troposphere affect the...  \n",
      "4  Yes, and carbon dioxide does not harm the Eart...  \n",
      "5  Excellent example...very relatable to the Gen ...  \n",
      "7  Has the Earth ever had a concentration of over...  \n",
      "9  Historical co2 data would make it an interesti...  \n"
     ]
    }
   ],
   "source": [
    "from sklearn.preprocessing import MinMaxScaler\n",
    "\n",
    "scaler = MinMaxScaler()\n",
    "data[['likesCount', 'commentsCount']] = scaler.fit_transform(data[['likesCount', 'commentsCount']])\n",
    "print(data.head())"
   ]
  },
  {
   "cell_type": "code",
   "execution_count": 16,
   "id": "15401951-c2f5-44b4-9b15-6630c53909fc",
   "metadata": {},
   "outputs": [
    {
     "name": "stdout",
     "output_type": "stream",
     "text": [
      "2    does the coghg in the troposphere affect the s...\n",
      "4    yes and carbon dioxide does not harm the earth...\n",
      "5    excellent examplevery relatable to the gen pop...\n",
      "7    has the earth ever had a concentration of over...\n",
      "9    historical co data would make it an interestin...\n",
      "Name: text, dtype: object\n"
     ]
    }
   ],
   "source": [
    "import re\n",
    "\n",
    "def clean_text(text):\n",
    "    text = re.sub(r'http\\s+', '', text)\n",
    "    text = re.sub(r'[^A-Za-z\\s]', '', text)\n",
    "    text = text.lower()\n",
    "    return text\n",
    "\n",
    "data['text'] = data['text'].apply(clean_text)\n",
    "print(data['text'].head())"
   ]
  },
  {
   "cell_type": "markdown",
   "id": "760dd208-5706-42c5-a569-c3a81d855da1",
   "metadata": {},
   "source": [
    "# Sentiment Analysis"
   ]
  },
  {
   "cell_type": "code",
   "execution_count": 18,
   "id": "ffbfb0e0-96f4-45ad-b7c6-f07f9878e3b0",
   "metadata": {},
   "outputs": [
    {
     "name": "stdout",
     "output_type": "stream",
     "text": [
      "Requirement already satisfied: textblob in c:\\users\\kande\\appdata\\local\\programs\\python\\python38\\lib\\site-packages (0.18.0.post0)\n",
      "Requirement already satisfied: nltk>=3.8 in c:\\users\\kande\\appdata\\local\\programs\\python\\python38\\lib\\site-packages (from textblob) (3.9.1)\n",
      "Requirement already satisfied: click in c:\\users\\kande\\appdata\\local\\programs\\python\\python38\\lib\\site-packages (from nltk>=3.8->textblob) (8.1.7)\n",
      "Requirement already satisfied: joblib in c:\\users\\kande\\appdata\\local\\programs\\python\\python38\\lib\\site-packages (from nltk>=3.8->textblob) (1.4.2)\n",
      "Requirement already satisfied: regex>=2021.8.3 in c:\\users\\kande\\appdata\\local\\programs\\python\\python38\\lib\\site-packages (from nltk>=3.8->textblob) (2024.11.6)\n",
      "Requirement already satisfied: tqdm in c:\\users\\kande\\appdata\\local\\programs\\python\\python38\\lib\\site-packages (from nltk>=3.8->textblob) (4.67.1)\n",
      "Requirement already satisfied: colorama in c:\\users\\kande\\appdata\\local\\programs\\python\\python38\\lib\\site-packages (from click->nltk>=3.8->textblob) (0.4.6)\n",
      "Note: you may need to restart the kernel to use updated packages.\n"
     ]
    }
   ],
   "source": [
    "pip install textblob"
   ]
  },
  {
   "cell_type": "code",
   "execution_count": 19,
   "id": "4925c071-fe7c-43ed-a176-576cd6bc8845",
   "metadata": {},
   "outputs": [
    {
     "name": "stdout",
     "output_type": "stream",
     "text": [
      "                                                text sentiment\n",
      "2  does the coghg in the troposphere affect the s...   Neutral\n",
      "4  yes and carbon dioxide does not harm the earth...  Negative\n",
      "5  excellent examplevery relatable to the gen pop...  Positive\n",
      "7  has the earth ever had a concentration of over...   Neutral\n",
      "9  historical co data would make it an interestin...  Positive\n"
     ]
    }
   ],
   "source": [
    "from textblob import TextBlob\n",
    "\n",
    "def get_sentiment(text):\n",
    "    blob = TextBlob(text)\n",
    "    if blob.sentiment.polarity > 0:\n",
    "        return 'Positive'\n",
    "    elif blob.sentiment.polarity < 0:\n",
    "        return 'Negative'\n",
    "    else:\n",
    "        return 'Neutral'\n",
    "\n",
    "data['sentiment'] = data['text'].apply(get_sentiment)\n",
    "print(data[['text', 'sentiment']].head())"
   ]
  },
  {
   "cell_type": "markdown",
   "id": "b915c9dc-f4f7-4bcd-94fc-47f2ccff06ac",
   "metadata": {},
   "source": [
    "# Trend Analysis"
   ]
  },
  {
   "cell_type": "code",
   "execution_count": 20,
   "id": "993f1b30-ad7f-4cf3-b1fa-eccfefa32b4f",
   "metadata": {},
   "outputs": [
    {
     "name": "stdout",
     "output_type": "stream",
     "text": [
      "2   2022-09-07 17:19:41+00:00\n",
      "4   2022-09-07 19:06:20+00:00\n",
      "5   2022-09-15 17:10:57+00:00\n",
      "7   2022-09-07 18:07:53+00:00\n",
      "9   2022-09-07 16:30:55+00:00\n",
      "Name: date, dtype: datetime64[ns, UTC]\n"
     ]
    }
   ],
   "source": [
    "data['date'] = pd.to_datetime(data['date'], errors='coerce')\n",
    "print(data['date'].head())"
   ]
  },
  {
   "cell_type": "code",
   "execution_count": 21,
   "id": "5c64b970-5b2d-437f-a59e-f7c070e33113",
   "metadata": {},
   "outputs": [
    {
     "data": {
      "text/plain": [
       "<Axes: xlabel='date'>"
      ]
     },
     "execution_count": 21,
     "metadata": {},
     "output_type": "execute_result"
    },
    {
     "data": {
      "image/png": "[encoded data removed]",
      "text/plain": [
       "<Figure size 1000x600 with 1 Axes>"
      ]
     },
     "metadata": {},
     "output_type": "display_data"
    }
   ],
   "source": [
    "sentiment_trends = data.groupby([data['date'].dt.date, 'sentiment']).size().unstack(fill_value=0)\n",
    "sentiment_trends.plot(kind='line', figsize=(10, 6))"
   ]
  },
  {
   "cell_type": "markdown",
   "id": "1082b9ec-8033-4464-b06f-5390d7abfbbf",
   "metadata": {},
   "source": [
    "# Topic Modeling"
   ]
  },
  {
   "cell_type": "code",
   "execution_count": 22,
   "id": "20d5ec2c-f61c-4d3f-8779-7829ea44c577",
   "metadata": {},
   "outputs": [
    {
     "name": "stdout",
     "output_type": "stream",
     "text": [
      "Collecting gensim\n",
      "  Downloading gensim-4.3.3-cp38-cp38-win_amd64.whl.metadata (8.2 kB)\n",
      "Requirement already satisfied: nltk in c:\\users\\kande\\appdata\\local\\programs\\python\\python38\\lib\\site-packages (3.9.1)\n",
      "Requirement already satisfied: numpy<2.0,>=1.18.5 in c:\\users\\kande\\appdata\\local\\programs\\python\\python38\\lib\\site-packages (from gensim) (1.24.4)\n",
      "Requirement already satisfied: scipy<1.14.0,>=1.7.0 in c:\\users\\kande\\appdata\\local\\programs\\python\\python38\\lib\\site-packages (from gensim) (1.10.1)\n",
      "Collecting smart-open>=1.8.1 (from gensim)\n",
      "  Downloading smart_open-7.0.5-py3-none-any.whl.metadata (24 kB)\n",
      "Requirement already satisfied: click in c:\\users\\kande\\appdata\\local\\programs\\python\\python38\\lib\\site-packages (from nltk) (8.1.7)\n",
      "Requirement already satisfied: joblib in c:\\users\\kande\\appdata\\local\\programs\\python\\python38\\lib\\site-packages (from nltk) (1.4.2)\n",
      "Requirement already satisfied: regex>=2021.8.3 in c:\\users\\kande\\appdata\\local\\programs\\python\\python38\\lib\\site-packages (from nltk) (2024.11.6)\n",
      "Requirement already satisfied: tqdm in c:\\users\\kande\\appdata\\local\\programs\\python\\python38\\lib\\site-packages (from nltk) (4.67.1)\n",
      "Collecting wrapt (from smart-open>=1.8.1->gensim)\n",
      "  Downloading wrapt-1.17.0-cp38-cp38-win_amd64.whl.metadata (6.5 kB)\n",
      "Requirement already satisfied: colorama in c:\\users\\kande\\appdata\\local\\programs\\python\\python38\\lib\\site-packages (from click->nltk) (0.4.6)\n",
      "Downloading gensim-4.3.3-cp38-cp38-win_amd64.whl (24.0 MB)\n",
      "   ---------------------------------------- 0.0/24.0 MB ? eta -:--:--\n",
      "   ---------------------------------------- 0.3/24.0 MB ? eta -:--:--\n",
      "    --------------------------------------- 0.5/24.0 MB 2.4 MB/s eta 0:00:10\n",
      "   - -------------------------------------- 0.8/24.0 MB 1.2 MB/s eta 0:00:20\n",
      "   - -------------------------------------- 0.8/24.0 MB 1.2 MB/s eta 0:00:20\n",
      "   - -------------------------------------- 0.8/24.0 MB 1.2 MB/s eta 0:00:20\n",
      "   - -------------------------------------- 1.0/24.0 MB 762.8 kB/s eta 0:00:31\n",
      "   - -------------------------------------- 1.0/24.0 MB 762.8 kB/s eta 0:00:31\n",
      "   - -------------------------------------- 1.0/24.0 MB 762.8 kB/s eta 0:00:31\n",
      "   -- ------------------------------------- 1.3/24.0 MB 610.3 kB/s eta 0:00:38\n",
      "   --- ------------------------------------ 1.8/24.0 MB 799.2 kB/s eta 0:00:28\n",
      "   ---- ----------------------------------- 2.6/24.0 MB 1.1 MB/s eta 0:00:20\n",
      "   ------ --------------------------------- 3.7/24.0 MB 1.4 MB/s eta 0:00:15\n",
      "   ------ --------------------------------- 4.2/24.0 MB 1.5 MB/s eta 0:00:14\n",
      "   ------- -------------------------------- 4.7/24.0 MB 1.6 MB/s eta 0:00:13\n",
      "   ------- -------------------------------- 4.7/24.0 MB 1.6 MB/s eta 0:00:13\n",
      "   -------- ------------------------------- 5.0/24.0 MB 1.4 MB/s eta 0:00:14\n",
      "   ---------- ----------------------------- 6.0/24.0 MB 1.7 MB/s eta 0:00:11\n",
      "   ------------- -------------------------- 8.1/24.0 MB 2.1 MB/s eta 0:00:08\n",
      "   ----------------- ---------------------- 10.2/24.0 MB 2.5 MB/s eta 0:00:06\n",
      "   -------------------- ------------------- 12.3/24.0 MB 2.9 MB/s eta 0:00:05\n",
      "   ------------------------ --------------- 14.4/24.0 MB 3.2 MB/s eta 0:00:03\n",
      "   ---------------------------- ----------- 17.0/24.0 MB 3.6 MB/s eta 0:00:02\n",
      "   --------------------------------- ------ 19.9/24.0 MB 4.1 MB/s eta 0:00:02\n",
      "   -------------------------------------- - 23.3/24.0 MB 4.5 MB/s eta 0:00:01\n",
      "   ---------------------------------------- 24.0/24.0 MB 4.5 MB/s eta 0:00:00\n",
      "Downloading smart_open-7.0.5-py3-none-any.whl (61 kB)\n",
      "Downloading wrapt-1.17.0-cp38-cp38-win_amd64.whl (38 kB)\n",
      "Installing collected packages: wrapt, smart-open, gensim\n",
      "Successfully installed gensim-4.3.3 smart-open-7.0.5 wrapt-1.17.0\n",
      "Note: you may need to restart the kernel to use updated packages.\n"
     ]
    }
   ],
   "source": [
    "pip install gensim nltk"
   ]
  },
  {
   "cell_type": "code",
   "execution_count": 23,
   "id": "ac447bd3-6133-48e7-ae83-2aba476f0c65",
   "metadata": {},
   "outputs": [
    {
     "name": "stderr",
     "output_type": "stream",
     "text": [
      "[nltk_data] Downloading package stopwords to\n",
      "[nltk_data]     C:\\Users\\kande\\AppData\\Roaming\\nltk_data...\n",
      "[nltk_data]   Package stopwords is already up-to-date!\n",
      "[nltk_data] Downloading package punkt to\n",
      "[nltk_data]     C:\\Users\\kande\\AppData\\Roaming\\nltk_data...\n",
      "[nltk_data]   Package punkt is already up-to-date!\n"
     ]
    },
    {
     "name": "stdout",
     "output_type": "stream",
     "text": [
      "2    [coghg, troposphere, affect, stratosphere, war...\n",
      "4    [yes, carbon, dioxide, harm, earth, like, peop...\n",
      "5    [excellent, examplevery, relatable, gen, pop, ...\n",
      "7                    [earth, ever, concentration, ppm]\n",
      "9    [historical, co, data, would, make, interestin...\n",
      "Name: processed_text, dtype: object\n"
     ]
    }
   ],
   "source": [
    "from nltk.corpus import stopwords\n",
    "from nltk.tokenize import word_tokenize\n",
    "import nltk\n",
    "\n",
    "nltk.download('stopwords')\n",
    "nltk.download('punkt')\n",
    "\n",
    "stop_words = set(stopwords.words('english'))\n",
    "\n",
    "def preprocess_text(text):\n",
    "    words = word_tokenize(text)\n",
    "    words = [word for word in words if word.isalnum() and word not in stop_words]\n",
    "    return words\n",
    "\n",
    "data['processed_text'] = data['text'].apply(preprocess_text)\n",
    "\n",
    "print(data['processed_text'].head())"
   ]
  },
  {
   "cell_type": "code",
   "execution_count": 24,
   "id": "19f1a4f0-5fbc-43e0-8e71-fe0dcce7ad97",
   "metadata": {},
   "outputs": [
    {
     "name": "stdout",
     "output_type": "stream",
     "text": [
      "(0, '0.022*\"climate\" + 0.015*\"change\" + 0.011*\"years\" + 0.008*\"nasa\" + 0.008*\"year\"')\n",
      "(1, '0.012*\"climate\" + 0.009*\"change\" + 0.009*\"global\" + 0.008*\"temperature\" + 0.008*\"energy\"')\n",
      "(2, '0.015*\"climate\" + 0.011*\"change\" + 0.009*\"would\" + 0.008*\"gases\" + 0.008*\"greenhouse\"')\n",
      "(3, '0.015*\"earth\" + 0.013*\"warming\" + 0.010*\"people\" + 0.009*\"ice\" + 0.009*\"climate\"')\n",
      "(4, '0.014*\"de\" + 0.010*\"anos\" + 0.009*\"years\" + 0.008*\"global\" + 0.007*\"people\"')\n"
     ]
    }
   ],
   "source": [
    "from gensim import corpora\n",
    "from gensim.models import LdaModel\n",
    "\n",
    "dictionary = corpora.Dictionary(data['processed_text'])\n",
    "\n",
    "corpus = [dictionary.doc2bow(text) for text in data['processed_text']]\n",
    "\n",
    "lda = LdaModel(corpus, num_topics=5, id2word=dictionary, passes=15)\n",
    "\n",
    "topics = lda.print_topics(num_words=5)\n",
    "for topic in topics:\n",
    "    print(topic)"
   ]
  },
  {
   "cell_type": "markdown",
   "id": "7d2ec5df-de11-48a6-b026-51c47cfff51b",
   "metadata": {},
   "source": [
    "# Model Selection and Training"
   ]
  },
  {
   "cell_type": "code",
   "execution_count": 27,
   "id": "34ef4778-1a10-41c8-8381-bd96648d387b",
   "metadata": {},
   "outputs": [],
   "source": [
    "X = data[['sentiment']]\n",
    "X = pd.get_dummies(X, drop_first=True)\n",
    "\n",
    "y = data['likesCount']\n",
    "\n",
    "from sklearn.model_selection import train_test_split\n",
    "X_train, X_test, y_train, y_test = train_test_split(X, y, test_size=0.2, random_state=42)"
   ]
  },
  {
   "cell_type": "code",
   "execution_count": 28,
   "id": "ff3e9190-cc56-4862-bec4-cea204e30120",
   "metadata": {},
   "outputs": [
    {
     "name": "stdout",
     "output_type": "stream",
     "text": [
      "MAE: 0.07355842253368006\n",
      "MSE: 0.024084846694349748\n",
      "R2: 0.044277431420466584\n"
     ]
    }
   ],
   "source": [
    "from sklearn.ensemble import RandomForestRegressor\n",
    "\n",
    "model = RandomForestRegressor(random_state=42)\n",
    "model.fit(X_train, y_train)\n",
    "\n",
    "y_pred = model.predict(X_test)\n",
    "\n",
    "from sklearn.metrics import mean_absolute_error, mean_squared_error, r2_score\n",
    "\n",
    "mae = mean_absolute_error(y_test, y_pred)\n",
    "mse = mean_squared_error(y_test, y_pred)\n",
    "r2 = r2_score(y_test, y_pred)\n",
    "\n",
    "print(f'MAE: {mae}')\n",
    "print(f'MSE: {mse}')\n",
    "print(f'R2: {r2}')"
   ]
  },
  {
   "cell_type": "code",
   "execution_count": 30,
   "id": "82ea1501-76d7-4f61-9d0a-64e88e8acbc2",
   "metadata": {},
   "outputs": [
    {
     "name": "stdout",
     "output_type": "stream",
     "text": [
      "Best Parameters: {'max_depth': None, 'min_samples_split': 5, 'n_estimators': 100}\n"
     ]
    }
   ],
   "source": [
    "from sklearn.ensemble import RandomForestRegressor\n",
    "from sklearn.model_selection import GridSearchCV\n",
    "\n",
    "param_grid = {\n",
    "    'n_estimators': [100, 200],\n",
    "    'max_depth': [5, 10, None],\n",
    "    'min_samples_split': [2, 5, 10]\n",
    "}\n",
    "\n",
    "grid_search = GridSearchCV(RandomForestRegressor(), param_grid, cv=5)\n",
    "grid_search.fit(X_train, y_train)\n",
    "\n",
    "print(f\"Best Parameters: {grid_search.best_params_}\")"
   ]
  },
  {
   "cell_type": "code",
   "execution_count": 31,
   "id": "fe549a3b-a4b0-4ea1-8472-6860c747fab0",
   "metadata": {},
   "outputs": [
    {
     "data": {
      "image/png": "[encoded data removed]",
      "text/plain": [
       "<Figure size 800x500 with 1 Axes>"
      ]
     },
     "metadata": {},
     "output_type": "display_data"
    }
   ],
   "source": [
    "import matplotlib.pyplot as plt\n",
    "\n",
    "plt.figure(figsize=(8, 5))\n",
    "plt.scatter(y_test, y_pred, alpha=0.7)\n",
    "plt.plot([y_test.min(), y_test.max()], [y_test.min(), y_test.max()], color='red', linestyle='--')\n",
    "plt.xlabel('Actual Likes')\n",
    "plt.ylabel('Predicted Likes')\n",
    "plt.title('Predicted vs Actual Likes')\n",
    "plt.show()"
   ]
  },
  {
   "cell_type": "code",
   "execution_count": 5,
   "id": "a9bd1169-2b63-4974-b754-ea544c07302c",
   "metadata": {},
   "outputs": [],
   "source": [
    "data['text'] = data['text'].fillna('')\n",
    "\n",
    "data['text'] = data['text'].astype(str)"
   ]
  },
  {
   "cell_type": "code",
   "execution_count": 6,
   "id": "ba39fff2-e7c0-4566-a1ac-5467a996b7bf",
   "metadata": {},
   "outputs": [
    {
     "name": "stdout",
     "output_type": "stream",
     "text": [
      "                                                text sentiment\n",
      "0  Neat comparison I have not heard it before.\\n ...   Neutral\n",
      "1  An excellent way to visualise the invisible! T...  Positive\n",
      "2  Does the CO2/ghg in the troposphere affect the...   Neutral\n",
      "3  excellent post! I defo feel the difference - o...  Positive\n",
      "4  Yes, and carbon dioxide does not harm the Eart...  Negative\n"
     ]
    }
   ],
   "source": [
    "from textblob import TextBlob\n",
    "\n",
    "def get_sentiment(text):\n",
    "    blob = TextBlob(text)\n",
    "    if blob.sentiment.polarity > 0:\n",
    "        return 'Positive'\n",
    "    elif blob.sentiment.polarity < 0:\n",
    "        return 'Negative'\n",
    "    else:\n",
    "        return 'Neutral'\n",
    "\n",
    "data['sentiment'] = data['text'].apply(get_sentiment)\n",
    "\n",
    "print(data[['text', 'sentiment']].head())"
   ]
  },
  {
   "cell_type": "markdown",
   "id": "2aea160b-b229-4772-af67-c0a05cfeb865",
   "metadata": {},
   "source": [
    "data = pd.get_dummies(data, columns=['sentiment'], drop_first=True)\n",
    "\n",
    "print(data.head())"
   ]
  },
  {
   "cell_type": "code",
   "execution_count": 8,
   "id": "56a27d64-7ef7-4e6b-b7f3-241f1ff80f11",
   "metadata": {},
   "outputs": [
    {
     "name": "stdout",
     "output_type": "stream",
     "text": [
      "Index(['date', 'likesCount', 'profileName', 'commentsCount', 'text',\n",
      "       'sentiment'],\n",
      "      dtype='object')\n"
     ]
    }
   ],
   "source": [
    "print(data.columns)\n"
   ]
  },
  {
   "cell_type": "code",
   "execution_count": 9,
   "id": "f34c6690-1c84-4ad0-976a-17d97296f43e",
   "metadata": {},
   "outputs": [
    {
     "name": "stdout",
     "output_type": "stream",
     "text": [
      "Index(['date', 'likesCount', 'profileName', 'commentsCount', 'text',\n",
      "       'sentiment_Neutral', 'sentiment_Positive'],\n",
      "      dtype='object')\n"
     ]
    }
   ],
   "source": [
    "data = pd.get_dummies(data, columns=['sentiment'], drop_first=True)\n",
    "print(data.columns)\n"
   ]
  },
  {
   "cell_type": "code",
   "execution_count": 10,
   "id": "30bdf263-2b2e-4347-8759-cfee5635372b",
   "metadata": {},
   "outputs": [
    {
     "name": "stdout",
     "output_type": "stream",
     "text": [
      "                       date  likesCount  \\\n",
      "0  2022-09-07T17:12:32.000Z           2   \n",
      "1  2022-09-08T14:51:13.000Z           0   \n",
      "2  2022-09-07T17:19:41.000Z           1   \n",
      "3  2022-09-08T00:51:30.000Z           4   \n",
      "4  2022-09-07T19:06:20.000Z          16   \n",
      "\n",
      "                                         profileName  commentsCount  \\\n",
      "0  4dca617d86b3fdce80ba7e81fb16e048c9cd9798cdfd6d...            NaN   \n",
      "1  518ab97f2d115ba5b6f03b2fba2ef2b120540c9681288b...            NaN   \n",
      "2  d82e8e24eb633fd625b0aef9b3cb625cfb044ceb8483e1...            3.0   \n",
      "3  37a509fa0b5177a2233c7e2d0e2b2d6916695fa9fba3f2...            NaN   \n",
      "4  e54fbbd42a729af9d04d9a5cc1f9bbfe8081a31c219ecb...           26.0   \n",
      "\n",
      "                                                text  sentiment_Neutral  \\\n",
      "0  Neat comparison I have not heard it before.\\n ...                  1   \n",
      "1  An excellent way to visualise the invisible! T...                  0   \n",
      "2  Does the CO2/ghg in the troposphere affect the...                  1   \n",
      "3  excellent post! I defo feel the difference - o...                  0   \n",
      "4  Yes, and carbon dioxide does not harm the Eart...                  0   \n",
      "\n",
      "   sentiment_Positive  \n",
      "0                   0  \n",
      "1                   1  \n",
      "2                   0  \n",
      "3                   1  \n",
      "4                   0  \n"
     ]
    }
   ],
   "source": [
    "print(data.head())"
   ]
  },
  {
   "cell_type": "code",
   "execution_count": 12,
   "id": "2b27e2ab-fc82-4c6d-a9fd-574ee2f26064",
   "metadata": {},
   "outputs": [
    {
     "name": "stdout",
     "output_type": "stream",
     "text": [
      "Features:    sentiment_Positive  sentiment_Neutral\n",
      "0                   0                  1\n",
      "1                   1                  0\n",
      "2                   0                  1\n",
      "3                   1                  0\n",
      "4                   0                  0\n",
      "Target: 0     2\n",
      "1     0\n",
      "2     1\n",
      "3     4\n",
      "4    16\n",
      "Name: likesCount, dtype: int64\n"
     ]
    }
   ],
   "source": [
    "X = data[['sentiment_Positive', 'sentiment_Neutral']]\n",
    "y = data['likesCount']\n",
    "\n",
    "print(\"Features:\", X.head())\n",
    "print(\"Target:\", y.head())"
   ]
  },
  {
   "cell_type": "code",
   "execution_count": 14,
   "id": "b4391acd-b409-469b-89ba-6c3d48a433e8",
   "metadata": {},
   "outputs": [
    {
     "name": "stdout",
     "output_type": "stream",
     "text": [
      "Model trainig complete!\n"
     ]
    }
   ],
   "source": [
    "from sklearn.ensemble import RandomForestRegressor\n",
    "from sklearn.model_selection import train_test_split\n",
    "\n",
    "X_train, X_test, y_train, y_test = train_test_split(X, y, test_size=0.2, random_state=42)\n",
    "\n",
    "model = RandomForestRegressor(random_state=42)\n",
    "model.fit(X_train, y_train)\n",
    "\n",
    "print(\"Model trainig complete!\")"
   ]
  },
  {
   "cell_type": "code",
   "execution_count": 15,
   "id": "8bbe64d9-7e95-46fd-bade-bce402d2f057",
   "metadata": {},
   "outputs": [
    {
     "name": "stdout",
     "output_type": "stream",
     "text": [
      "Model saved successfully as 'climate_change_model.pkl'!\n"
     ]
    }
   ],
   "source": [
    "import joblib\n",
    "\n",
    "joblib.dump(model, 'climate_change_model.pkl')\n",
    "\n",
    "print(\"Model saved successfully as 'climate_change_model.pkl'!\")"
   ]
  },
  {
   "cell_type": "markdown",
   "id": "e1f82036-ca22-4c6e-8bba-bd3a73bf365a",
   "metadata": {},
   "source": [
    "# Model Prediction"
   ]
  },
  {
   "cell_type": "code",
   "execution_count": 16,
   "id": "9093151f-51b4-48c9-bc19-2dd5cb1bc8c6",
   "metadata": {},
   "outputs": [
    {
     "name": "stdout",
     "output_type": "stream",
     "text": [
      "Future Data:\n",
      "   sentiment_Positive  sentiment_Neutral\n",
      "0                   1                  0\n",
      "1                   0                  1\n"
     ]
    }
   ],
   "source": [
    "import pandas as pd\n",
    "\n",
    "future_data = pd.DataFrame({\n",
    "    'sentiment_Positive': [1, 0],\n",
    "    'sentiment_Neutral': [0, 1]\n",
    "})\n",
    "\n",
    "print(\"Future Data:\")\n",
    "print(future_data)"
   ]
  },
  {
   "cell_type": "code",
   "execution_count": 17,
   "id": "6e177f53-b965-4a80-9a19-a56e8279b9bb",
   "metadata": {},
   "outputs": [
    {
     "name": "stdout",
     "output_type": "stream",
     "text": [
      "Predicted likes Count for Future Data:\n",
      "[6.83324037 2.64990329]\n"
     ]
    }
   ],
   "source": [
    "import joblib\n",
    "\n",
    "model = joblib.load('climate_change_model.pkl')\n",
    "\n",
    "predictions = model.predict(future_data)\n",
    "\n",
    "print(\"Predicted likes Count for Future Data:\")\n",
    "print(predictions)"
   ]
  },
  {
   "cell_type": "markdown",
   "id": "f3ad095e-cd36-4939-a9b9-c9bfc6da5291",
   "metadata": {},
   "source": [
    "# Scenario Analysis"
   ]
  },
  {
   "cell_type": "code",
   "execution_count": 21,
   "id": "b1917c86-1a33-4d91-a469-3015468eec7b",
   "metadata": {},
   "outputs": [
    {
     "name": "stdout",
     "output_type": "stream",
     "text": [
      "Scenario Data:\n",
      "   sentiment_Positive  sentiment_Neutral\n",
      "0                 1.0                0.0\n",
      "1                 0.0                1.0\n",
      "2                 0.5                0.5\n",
      "Predicted Likes Count for Sxenarios:\n",
      "Scenario 1: 6.83 likes\n",
      "Scenario 2: 2.65 likes\n",
      "Scenario 3: 5.60 likes\n"
     ]
    }
   ],
   "source": [
    "import pandas as pd\n",
    "import joblib\n",
    "\n",
    "model = joblib.load('climate_change_model.pkl')\n",
    "\n",
    "scenario_data = pd.DataFrame({\n",
    "    'sentiment_Positive': [1, 0, 0.5],\n",
    "    'sentiment_Neutral': [0, 1, 0.5]\n",
    "})\n",
    "\n",
    "print(\"Scenario Data:\")\n",
    "print(scenario_data)\n",
    "\n",
    "scenario_predictions = model.predict(scenario_data)\n",
    "\n",
    "print(\"Predicted Likes Count for Sxenarios:\")\n",
    "for i, pred in enumerate(scenario_predictions):\n",
    "    print(f\"Scenario {i+1}: {pred:.2f} likes\")"
   ]
  },
  {
   "cell_type": "markdown",
   "id": "c03cee49-041d-486a-9d1b-c3af59c9d243",
   "metadata": {},
   "source": [
    "# Create visualization for scenario analysis"
   ]
  },
  {
   "cell_type": "code",
   "execution_count": 22,
   "id": "e8df2b47-1b0e-4eeb-ab0f-fb9618a7f061",
   "metadata": {},
   "outputs": [
    {
     "data": {
      "image/png": "[encoded data removed]",
      "text/plain": [
       "<Figure size 800x500 with 1 Axes>"
      ]
     },
     "metadata": {},
     "output_type": "display_data"
    }
   ],
   "source": [
    "import matplotlib.pyplot as plt\n",
    "\n",
    "scenarios = ['High Positive', 'High Neutral', 'Balanced']\n",
    "predicted_likes = [6.83, 2.65, 5.60]\n",
    "\n",
    "plt.figure(figsize=(8, 5))\n",
    "plt.bar(scenarios, predicted_likes, color=['green', 'blue', 'orange'])\n",
    "\n",
    "plt.xlabel('Scenario')\n",
    "plt.ylabel('Predicted Likes Count')\n",
    "plt.title('Predicted Likes Count for Different Sentiment Scenarios')\n",
    "plt.ylim(0, 8)\n",
    "\n",
    "plt.show()"
   ]
  },
  {
   "cell_type": "code",
   "execution_count": null,
   "id": "548a3aac-3912-4469-acc0-f09aa6c7f252",
   "metadata": {},
   "outputs": [],
   "source": [
    "### loaded model\n",
    "import joblib\n",
    "model = joblib.load('climate_change_model.pkl')"
   ]
  },
  {
   "cell_type": "markdown",
   "id": "b7d29764-9a44-4079-ac47-8c9a530dcb3b",
   "metadata": {},
   "source": [
    "### visualization\n",
    "import matplotlib.pyplot as plt\n",
    "plt.show()"
   ]
  }
 ],
 "metadata": {
  "kernelspec": {
   "display_name": "Python 3 (ipykernel)",
   "language": "python",
   "name": "python3"
  },
  "language_info": {
   "codemirror_mode": {
    "name": "ipython",
    "version": 3
   },
   "file_extension": ".py",
   "mimetype": "text/x-python",
   "name": "python",
   "nbconvert_exporter": "python",
   "pygments_lexer": "ipython3",
   "version": "3.8.0"
  }
 },
 "nbformat": 4,
 "nbformat_minor": 5
}
